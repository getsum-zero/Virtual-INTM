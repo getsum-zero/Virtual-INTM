{
 "cells": [
  {
   "cell_type": "code",
   "execution_count": 1,
   "metadata": {},
   "outputs": [
    {
     "name": "stderr",
     "output_type": "stream",
     "text": [
      "d:\\software\\miniconda\\lib\\site-packages\\tqdm\\auto.py:21: TqdmWarning: IProgress not found. Please update jupyter and ipywidgets. See https://ipywidgets.readthedocs.io/en/stable/user_install.html\n",
      "  from .autonotebook import tqdm as notebook_tqdm\n",
      "No GPU/TPU found, falling back to CPU. (Set TF_CPP_MIN_LOG_LEVEL=0 and rerun for more info.)\n"
     ]
    },
    {
     "data": {
      "text/plain": [
       "<Figure size 400x200 with 0 Axes>"
      ]
     },
     "metadata": {},
     "output_type": "display_data"
    }
   ],
   "source": [
    "import numpy as np\n",
    "import sys\n",
    "sys.path.append(\"../\")\n",
    "from utils.plane import plane\n",
    "\n",
    "np.random.seed(3690)\n",
    "p = np.random.random((8,8))\n",
    "for i in range(4):\n",
    "    for j in range(2):\n",
    "        p[i][j] = p[i][j] + np.random.random()\n",
    "p = p / np.sum(p)\n",
    "\n",
    "s = plane(p,                         # 2D\n",
    "        num= 10000,               # the number of neurons\n",
    "        unit= 1,               # Mesh side length\n",
    "        connect_len= 0.35,\n",
    "        ele_scale = 0.125,\n",
    "        cell_unit = 0.005,\n",
    "        cell_scale = [1, 3, 5, 7],\n",
    "        cell_prob = [0.15, 0.55, 0.3, 0.1],\n",
    "        cell_size = [1, 3, 7, 10],\n",
    "        near_p = 0.008,\n",
    "        far_n = 2,\n",
    "        messager =[32],\n",
    "        fire_n = 10000,\n",
    "        draw_point= True,      # Visual plane\n",
    "        savepath = \"./\"\n",
    "            )\n"
   ]
  }
 ],
 "metadata": {
  "kernelspec": {
   "display_name": "Python 3",
   "language": "python",
   "name": "python3"
  },
  "language_info": {
   "codemirror_mode": {
    "name": "ipython",
    "version": 3
   },
   "file_extension": ".py",
   "mimetype": "text/x-python",
   "name": "python",
   "nbconvert_exporter": "python",
   "pygments_lexer": "ipython3",
   "version": "3.10.13"
  }
 },
 "nbformat": 4,
 "nbformat_minor": 2
}
